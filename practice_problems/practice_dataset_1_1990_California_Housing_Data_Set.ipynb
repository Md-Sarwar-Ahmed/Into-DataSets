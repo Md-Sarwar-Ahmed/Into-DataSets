{
  "nbformat": 4,
  "nbformat_minor": 0,
  "metadata": {
    "colab": {
      "name": "practice_dataset_1: 1990_California_Housing_Data_Set.ipynb",
      "provenance": [],
      "collapsed_sections": []
    },
    "kernelspec": {
      "name": "python3",
      "display_name": "Python 3"
    },
    "language_info": {
      "name": "python"
    }
  },
  "cells": [
    {
      "cell_type": "code",
      "metadata": {
        "id": "l4JUyJlst1Pv"
      },
      "source": [
        "#@title Runtime operations with TensorFlow 2.x\n",
        "%tensorflow_version 2.x"
      ],
      "execution_count": null,
      "outputs": []
    },
    {
      "cell_type": "code",
      "metadata": {
        "id": "HD8BMILlt5PY"
      },
      "source": [
        "#We import relevant modules as\n",
        "import pandas as pd\n",
        "import tensorflow as tf\n",
        "from matplotlib import pyplot as plt\n",
        "\n",
        "# The following lines adjust the granularity of reporting. \n",
        "#Granularity is the scale or level of detail in a batch of data. \n",
        "pd.options.display.max_rows = 10\n",
        "pd.options.display.float_format = \"{:.1f}\".format"
      ],
      "execution_count": null,
      "outputs": []
    },
    {
      "cell_type": "code",
      "metadata": {
        "colab": {
          "base_uri": "https://localhost:8080/",
          "height": 204
        },
        "id": "Zo6Xt9cBuCut",
        "outputId": "c18afbd4-db71-4032-f82f-01c099415901"
      },
      "source": [
        "#We import relevant dataset as\n",
        "training_df = pd.read_csv(filepath_or_buffer=\"https://download.mlcc.google.com/mledu-datasets/california_housing_train.csv\")\n",
        "\n",
        "# Scaling label.\n",
        "training_df[\"median_house_value\"] /= 1000.0\n",
        "\n",
        "# Printing the first rows of the pandas DataFrame.\n",
        "training_df.head()"
      ],
      "execution_count": null,
      "outputs": [
        {
          "output_type": "execute_result",
          "data": {
            "text/html": [
              "<div>\n",
              "<style scoped>\n",
              "    .dataframe tbody tr th:only-of-type {\n",
              "        vertical-align: middle;\n",
              "    }\n",
              "\n",
              "    .dataframe tbody tr th {\n",
              "        vertical-align: top;\n",
              "    }\n",
              "\n",
              "    .dataframe thead th {\n",
              "        text-align: right;\n",
              "    }\n",
              "</style>\n",
              "<table border=\"1\" class=\"dataframe\">\n",
              "  <thead>\n",
              "    <tr style=\"text-align: right;\">\n",
              "      <th></th>\n",
              "      <th>longitude</th>\n",
              "      <th>latitude</th>\n",
              "      <th>housing_median_age</th>\n",
              "      <th>total_rooms</th>\n",
              "      <th>total_bedrooms</th>\n",
              "      <th>population</th>\n",
              "      <th>households</th>\n",
              "      <th>median_income</th>\n",
              "      <th>median_house_value</th>\n",
              "    </tr>\n",
              "  </thead>\n",
              "  <tbody>\n",
              "    <tr>\n",
              "      <th>0</th>\n",
              "      <td>-114.3</td>\n",
              "      <td>34.2</td>\n",
              "      <td>15.0</td>\n",
              "      <td>5612.0</td>\n",
              "      <td>1283.0</td>\n",
              "      <td>1015.0</td>\n",
              "      <td>472.0</td>\n",
              "      <td>1.5</td>\n",
              "      <td>66.9</td>\n",
              "    </tr>\n",
              "    <tr>\n",
              "      <th>1</th>\n",
              "      <td>-114.5</td>\n",
              "      <td>34.4</td>\n",
              "      <td>19.0</td>\n",
              "      <td>7650.0</td>\n",
              "      <td>1901.0</td>\n",
              "      <td>1129.0</td>\n",
              "      <td>463.0</td>\n",
              "      <td>1.8</td>\n",
              "      <td>80.1</td>\n",
              "    </tr>\n",
              "    <tr>\n",
              "      <th>2</th>\n",
              "      <td>-114.6</td>\n",
              "      <td>33.7</td>\n",
              "      <td>17.0</td>\n",
              "      <td>720.0</td>\n",
              "      <td>174.0</td>\n",
              "      <td>333.0</td>\n",
              "      <td>117.0</td>\n",
              "      <td>1.7</td>\n",
              "      <td>85.7</td>\n",
              "    </tr>\n",
              "    <tr>\n",
              "      <th>3</th>\n",
              "      <td>-114.6</td>\n",
              "      <td>33.6</td>\n",
              "      <td>14.0</td>\n",
              "      <td>1501.0</td>\n",
              "      <td>337.0</td>\n",
              "      <td>515.0</td>\n",
              "      <td>226.0</td>\n",
              "      <td>3.2</td>\n",
              "      <td>73.4</td>\n",
              "    </tr>\n",
              "    <tr>\n",
              "      <th>4</th>\n",
              "      <td>-114.6</td>\n",
              "      <td>33.6</td>\n",
              "      <td>20.0</td>\n",
              "      <td>1454.0</td>\n",
              "      <td>326.0</td>\n",
              "      <td>624.0</td>\n",
              "      <td>262.0</td>\n",
              "      <td>1.9</td>\n",
              "      <td>65.5</td>\n",
              "    </tr>\n",
              "  </tbody>\n",
              "</table>\n",
              "</div>"
            ],
            "text/plain": [
              "   longitude  latitude  ...  median_income  median_house_value\n",
              "0     -114.3      34.2  ...            1.5                66.9\n",
              "1     -114.5      34.4  ...            1.8                80.1\n",
              "2     -114.6      33.7  ...            1.7                85.7\n",
              "3     -114.6      33.6  ...            3.2                73.4\n",
              "4     -114.6      33.6  ...            1.9                65.5\n",
              "\n",
              "[5 rows x 9 columns]"
            ]
          },
          "metadata": {
            "tags": []
          },
          "execution_count": 3
        }
      ]
    },
    {
      "cell_type": "code",
      "metadata": {
        "colab": {
          "base_uri": "https://localhost:8080/",
          "height": 297
        },
        "id": "JAB4PO9kuGMt",
        "outputId": "659f20f3-93af-4ddd-cb04-084ade6d2051"
      },
      "source": [
        "# Obtaining statistical observations for efficient inference on future dataset.\n",
        "training_df.describe()"
      ],
      "execution_count": null,
      "outputs": [
        {
          "output_type": "execute_result",
          "data": {
            "text/html": [
              "<div>\n",
              "<style scoped>\n",
              "    .dataframe tbody tr th:only-of-type {\n",
              "        vertical-align: middle;\n",
              "    }\n",
              "\n",
              "    .dataframe tbody tr th {\n",
              "        vertical-align: top;\n",
              "    }\n",
              "\n",
              "    .dataframe thead th {\n",
              "        text-align: right;\n",
              "    }\n",
              "</style>\n",
              "<table border=\"1\" class=\"dataframe\">\n",
              "  <thead>\n",
              "    <tr style=\"text-align: right;\">\n",
              "      <th></th>\n",
              "      <th>longitude</th>\n",
              "      <th>latitude</th>\n",
              "      <th>housing_median_age</th>\n",
              "      <th>total_rooms</th>\n",
              "      <th>total_bedrooms</th>\n",
              "      <th>population</th>\n",
              "      <th>households</th>\n",
              "      <th>median_income</th>\n",
              "      <th>median_house_value</th>\n",
              "    </tr>\n",
              "  </thead>\n",
              "  <tbody>\n",
              "    <tr>\n",
              "      <th>count</th>\n",
              "      <td>17000.0</td>\n",
              "      <td>17000.0</td>\n",
              "      <td>17000.0</td>\n",
              "      <td>17000.0</td>\n",
              "      <td>17000.0</td>\n",
              "      <td>17000.0</td>\n",
              "      <td>17000.0</td>\n",
              "      <td>17000.0</td>\n",
              "      <td>17000.0</td>\n",
              "    </tr>\n",
              "    <tr>\n",
              "      <th>mean</th>\n",
              "      <td>-119.6</td>\n",
              "      <td>35.6</td>\n",
              "      <td>28.6</td>\n",
              "      <td>2643.7</td>\n",
              "      <td>539.4</td>\n",
              "      <td>1429.6</td>\n",
              "      <td>501.2</td>\n",
              "      <td>3.9</td>\n",
              "      <td>207.3</td>\n",
              "    </tr>\n",
              "    <tr>\n",
              "      <th>std</th>\n",
              "      <td>2.0</td>\n",
              "      <td>2.1</td>\n",
              "      <td>12.6</td>\n",
              "      <td>2179.9</td>\n",
              "      <td>421.5</td>\n",
              "      <td>1147.9</td>\n",
              "      <td>384.5</td>\n",
              "      <td>1.9</td>\n",
              "      <td>116.0</td>\n",
              "    </tr>\n",
              "    <tr>\n",
              "      <th>min</th>\n",
              "      <td>-124.3</td>\n",
              "      <td>32.5</td>\n",
              "      <td>1.0</td>\n",
              "      <td>2.0</td>\n",
              "      <td>1.0</td>\n",
              "      <td>3.0</td>\n",
              "      <td>1.0</td>\n",
              "      <td>0.5</td>\n",
              "      <td>15.0</td>\n",
              "    </tr>\n",
              "    <tr>\n",
              "      <th>25%</th>\n",
              "      <td>-121.8</td>\n",
              "      <td>33.9</td>\n",
              "      <td>18.0</td>\n",
              "      <td>1462.0</td>\n",
              "      <td>297.0</td>\n",
              "      <td>790.0</td>\n",
              "      <td>282.0</td>\n",
              "      <td>2.6</td>\n",
              "      <td>119.4</td>\n",
              "    </tr>\n",
              "    <tr>\n",
              "      <th>50%</th>\n",
              "      <td>-118.5</td>\n",
              "      <td>34.2</td>\n",
              "      <td>29.0</td>\n",
              "      <td>2127.0</td>\n",
              "      <td>434.0</td>\n",
              "      <td>1167.0</td>\n",
              "      <td>409.0</td>\n",
              "      <td>3.5</td>\n",
              "      <td>180.4</td>\n",
              "    </tr>\n",
              "    <tr>\n",
              "      <th>75%</th>\n",
              "      <td>-118.0</td>\n",
              "      <td>37.7</td>\n",
              "      <td>37.0</td>\n",
              "      <td>3151.2</td>\n",
              "      <td>648.2</td>\n",
              "      <td>1721.0</td>\n",
              "      <td>605.2</td>\n",
              "      <td>4.8</td>\n",
              "      <td>265.0</td>\n",
              "    </tr>\n",
              "    <tr>\n",
              "      <th>max</th>\n",
              "      <td>-114.3</td>\n",
              "      <td>42.0</td>\n",
              "      <td>52.0</td>\n",
              "      <td>37937.0</td>\n",
              "      <td>6445.0</td>\n",
              "      <td>35682.0</td>\n",
              "      <td>6082.0</td>\n",
              "      <td>15.0</td>\n",
              "      <td>500.0</td>\n",
              "    </tr>\n",
              "  </tbody>\n",
              "</table>\n",
              "</div>"
            ],
            "text/plain": [
              "       longitude  latitude  ...  median_income  median_house_value\n",
              "count    17000.0   17000.0  ...        17000.0             17000.0\n",
              "mean      -119.6      35.6  ...            3.9               207.3\n",
              "std          2.0       2.1  ...            1.9               116.0\n",
              "min       -124.3      32.5  ...            0.5                15.0\n",
              "25%       -121.8      33.9  ...            2.6               119.4\n",
              "50%       -118.5      34.2  ...            3.5               180.4\n",
              "75%       -118.0      37.7  ...            4.8               265.0\n",
              "max       -114.3      42.0  ...           15.0               500.0\n",
              "\n",
              "[8 rows x 9 columns]"
            ]
          },
          "metadata": {
            "tags": []
          },
          "execution_count": 4
        }
      ]
    },
    {
      "cell_type": "code",
      "metadata": {
        "colab": {
          "base_uri": "https://localhost:8080/"
        },
        "id": "syLQshl0vM8N",
        "outputId": "cbdb21ea-6ac8-4ce9-b8ea-8cbf697bcf03"
      },
      "source": [
        "#@title Functions that build and train a model\n",
        "\n",
        "#The functions that build a model-\n",
        "\n",
        "def build_model(my_learning_rate):\n",
        "  \"\"\"Create and compile a simple linear regression model.\"\"\"\n",
        "  # Most simple tf.keras models are sequential.\n",
        "  model = tf.keras.models.Sequential()\n",
        "\n",
        "  # Describe the topography of the model.\n",
        "  # The topography of a simple linear regression model\n",
        "  # is a single node in a single layer.\n",
        "  model.add(tf.keras.layers.Dense(units=1, \n",
        "                                  input_shape=(1,)))\n",
        "\n",
        "  # Compile the model topography into code that TensorFlow can efficiently\n",
        "  # execute. Configure training to minimize the model's mean squared error. \n",
        "  model.compile(optimizer=tf.keras.optimizers.RMSprop(lr=my_learning_rate),\n",
        "                loss=\"mean_squared_error\",\n",
        "                metrics=[tf.keras.metrics.RootMeanSquaredError()])\n",
        "\n",
        "  return model        \n",
        "\n",
        "#The functions that train a model-\n",
        "\n",
        "def train_model(model, df, feature, label, epochs, batch_size):\n",
        "  \"\"\"Train the model by feeding it data.\"\"\"\n",
        "\n",
        "  # Feed the model the feature and the label.\n",
        "  # The model will train for the specified number of epochs. \n",
        "  history = model.fit(x=df[feature],\n",
        "                      y=df[label],\n",
        "                      batch_size=batch_size,\n",
        "                      epochs=epochs)\n",
        "\n",
        "  # Gather the trained model's weight and bias.\n",
        "  trained_weight = model.get_weights()[0]\n",
        "  trained_bias = model.get_weights()[1]\n",
        "\n",
        "  # The list of epochs is stored separately from the rest of history.\n",
        "  epochs = history.epoch\n",
        "  \n",
        "  # Isolate the error for each epoch.\n",
        "  hist = pd.DataFrame(history.history)\n",
        "\n",
        "  # To track the progression of training, we're going to take a snapshot\n",
        "  # of the model's root mean squared error at each epoch. \n",
        "  rmse = hist[\"root_mean_squared_error\"]\n",
        "\n",
        "  return trained_weight, trained_bias, epochs, rmse\n",
        "\n",
        "print(\"Defined the create_model and traing_model functions.\")"
      ],
      "execution_count": null,
      "outputs": [
        {
          "output_type": "stream",
          "text": [
            "Defined the create_model and traing_model functions.\n"
          ],
          "name": "stdout"
        }
      ]
    },
    {
      "cell_type": "code",
      "metadata": {
        "colab": {
          "base_uri": "https://localhost:8080/"
        },
        "id": "WcHVv3rIvO1l",
        "outputId": "6ec8d2e6-cf65-4b05-c4ff-b4e488854807"
      },
      "source": [
        "#@title Plotting functions\n",
        "\n",
        "#plot_the_model\n",
        "\n",
        "def plot_the_model(trained_weight, trained_bias, feature, label):\n",
        "  \"\"\"Plot the trained model against 200 random training examples.\"\"\"\n",
        "\n",
        "  # Labelling axes.\n",
        "  plt.xlabel(feature)\n",
        "  plt.ylabel(label)\n",
        "\n",
        "  # Creating a scatter plot from 200 random points of the dataset.\n",
        "  random_examples = training_df.sample(n=200)\n",
        "  plt.scatter(random_examples[feature], random_examples[label])\n",
        "\n",
        "  # Creating a red line representing the model. The red line starts\n",
        "  # at coordinates (x0, y0) and ends at coordinates (x1, y1).\n",
        "  x0 = 0\n",
        "  y0 = trained_bias\n",
        "  x1 = 10000\n",
        "  y1 = trained_bias + (trained_weight * x1)\n",
        "  plt.plot([x0, x1], [y0, y1], c='r')\n",
        "\n",
        "  # Rendering the scatter plot and the red line.\n",
        "  plt.show()\n",
        "\n",
        "#plot_the_loss_curve\n",
        "\n",
        "def plot_the_loss_curve(epochs, rmse):\n",
        "  \"\"\"Plot a curve of loss vs. epoch.\"\"\"\n",
        "\n",
        "  plt.figure()\n",
        "  plt.xlabel(\"Epoch\")\n",
        "  plt.ylabel(\"Root Mean Squared Error\")\n",
        "\n",
        "  plt.plot(epochs, rmse, label=\"Loss\")\n",
        "  plt.legend()\n",
        "  plt.ylim([rmse.min()*0.97, rmse.max()])\n",
        "  plt.show()  \n",
        "\n",
        "print(\"Defined the plot_the_model and plot_the_loss_curve functions.\")"
      ],
      "execution_count": null,
      "outputs": [
        {
          "output_type": "stream",
          "text": [
            "Defined the plot_the_model and plot_the_loss_curve functions.\n"
          ],
          "name": "stdout"
        }
      ]
    },
    {
      "cell_type": "code",
      "metadata": {
        "colab": {
          "base_uri": "https://localhost:8080/",
          "height": 1000
        },
        "id": "aT-FhTapvUdJ",
        "outputId": "12f9f2c5-a4bf-42b6-8b88-e16f0f23b503"
      },
      "source": [
        "#@title Plugging hyperparameters\n",
        "\n",
        "# The following variables are the hyperparameters.\n",
        "\n",
        "learning_rate = 0.01\n",
        "epochs = 30\n",
        "batch_size = 30\n",
        "\n",
        "# Specifying the feature and the label.\n",
        "my_feature = \"total_rooms\"  # the total number of rooms on a specific city block.\n",
        "my_label=\"median_house_value\" # the median value of a house on a specific city block.\n",
        "#We are here creating a model that predicts house value based solely on total_rooms.  \n",
        "\n",
        "# Discarding any pre-existing version of the model.\n",
        "my_model = None\n",
        "\n",
        "# Invoking the functions.\n",
        "my_model = build_model(learning_rate)\n",
        "weight, bias, epochs, rmse = train_model(my_model, training_df, \n",
        "                                         my_feature, my_label,\n",
        "                                         epochs, batch_size)\n",
        "\n",
        "print(\"\\nThe learned weight for your model is %.4f\" % weight)\n",
        "print(\"The learned bias for your model is %.4f\\n\" % bias )\n",
        "\n",
        "plot_the_model(weight, bias, my_feature, my_label)\n",
        "plot_the_loss_curve(epochs, rmse)"
      ],
      "execution_count": null,
      "outputs": [
        {
          "output_type": "stream",
          "text": [
            "Epoch 1/30\n",
            "567/567 [==============================] - 1s 831us/step - loss: 62511.8641 - root_mean_squared_error: 234.6023\n",
            "Epoch 2/30\n",
            "567/567 [==============================] - 1s 881us/step - loss: 27381.9386 - root_mean_squared_error: 165.4531\n",
            "Epoch 3/30\n",
            "567/567 [==============================] - 1s 883us/step - loss: 26944.0724 - root_mean_squared_error: 164.1345\n",
            "Epoch 4/30\n",
            "567/567 [==============================] - 1s 888us/step - loss: 26296.6108 - root_mean_squared_error: 162.1156\n",
            "Epoch 5/30\n",
            "567/567 [==============================] - 1s 887us/step - loss: 25514.6378 - root_mean_squared_error: 159.7098\n",
            "Epoch 6/30\n",
            "567/567 [==============================] - 0s 873us/step - loss: 25457.1007 - root_mean_squared_error: 159.5396\n",
            "Epoch 7/30\n",
            "567/567 [==============================] - 0s 864us/step - loss: 24356.2953 - root_mean_squared_error: 156.0429\n",
            "Epoch 8/30\n",
            "567/567 [==============================] - 1s 893us/step - loss: 23721.2943 - root_mean_squared_error: 154.0045\n",
            "Epoch 9/30\n",
            "567/567 [==============================] - 1s 900us/step - loss: 23112.9700 - root_mean_squared_error: 152.0138\n",
            "Epoch 10/30\n",
            "567/567 [==============================] - 0s 873us/step - loss: 22700.6150 - root_mean_squared_error: 150.6407\n",
            "Epoch 11/30\n",
            "567/567 [==============================] - 1s 908us/step - loss: 21610.6391 - root_mean_squared_error: 146.9911\n",
            "Epoch 12/30\n",
            "567/567 [==============================] - 1s 886us/step - loss: 21376.0973 - root_mean_squared_error: 146.1826\n",
            "Epoch 13/30\n",
            "567/567 [==============================] - 0s 861us/step - loss: 20697.5089 - root_mean_squared_error: 143.8531\n",
            "Epoch 14/30\n",
            "567/567 [==============================] - 0s 853us/step - loss: 20345.5669 - root_mean_squared_error: 142.6210\n",
            "Epoch 15/30\n",
            "567/567 [==============================] - 0s 863us/step - loss: 19274.0142 - root_mean_squared_error: 138.7988\n",
            "Epoch 16/30\n",
            "567/567 [==============================] - 1s 908us/step - loss: 19655.7808 - root_mean_squared_error: 140.1875\n",
            "Epoch 17/30\n",
            "567/567 [==============================] - 0s 874us/step - loss: 18958.8746 - root_mean_squared_error: 137.6781\n",
            "Epoch 18/30\n",
            "567/567 [==============================] - 0s 868us/step - loss: 19071.9267 - root_mean_squared_error: 138.0721\n",
            "Epoch 19/30\n",
            "567/567 [==============================] - 0s 879us/step - loss: 18410.2643 - root_mean_squared_error: 135.6486\n",
            "Epoch 20/30\n",
            "567/567 [==============================] - 0s 866us/step - loss: 18540.6656 - root_mean_squared_error: 136.1387\n",
            "Epoch 21/30\n",
            "567/567 [==============================] - 0s 856us/step - loss: 17430.5658 - root_mean_squared_error: 132.0133\n",
            "Epoch 22/30\n",
            "567/567 [==============================] - 1s 890us/step - loss: 17652.1078 - root_mean_squared_error: 132.8428\n",
            "Epoch 23/30\n",
            "567/567 [==============================] - 0s 863us/step - loss: 17302.3109 - root_mean_squared_error: 131.5077\n",
            "Epoch 24/30\n",
            "567/567 [==============================] - 1s 923us/step - loss: 16992.3478 - root_mean_squared_error: 130.3318\n",
            "Epoch 25/30\n",
            "567/567 [==============================] - 0s 877us/step - loss: 16219.8497 - root_mean_squared_error: 127.3326\n",
            "Epoch 26/30\n",
            "567/567 [==============================] - 0s 862us/step - loss: 15895.7229 - root_mean_squared_error: 126.0668\n",
            "Epoch 27/30\n",
            "567/567 [==============================] - 0s 860us/step - loss: 15861.0784 - root_mean_squared_error: 125.9371\n",
            "Epoch 28/30\n",
            "567/567 [==============================] - 1s 887us/step - loss: 15749.1678 - root_mean_squared_error: 125.4578\n",
            "Epoch 29/30\n",
            "567/567 [==============================] - 0s 878us/step - loss: 15213.9198 - root_mean_squared_error: 123.3230\n",
            "Epoch 30/30\n",
            "567/567 [==============================] - 1s 906us/step - loss: 15307.3533 - root_mean_squared_error: 123.7178\n",
            "\n",
            "The learned weight for your model is 0.0034\n",
            "The learned bias for your model is 132.2566\n",
            "\n"
          ],
          "name": "stdout"
        },
        {
          "output_type": "stream",
          "text": [
            "/usr/local/lib/python3.7/dist-packages/numpy/core/_asarray.py:136: VisibleDeprecationWarning: Creating an ndarray from ragged nested sequences (which is a list-or-tuple of lists-or-tuples-or ndarrays with different lengths or shapes) is deprecated. If you meant to do this, you must specify 'dtype=object' when creating the ndarray\n",
            "  return array(a, dtype, copy=False, order=order, subok=True)\n"
          ],
          "name": "stderr"
        },
        {
          "output_type": "display_data",
          "data": {
            "image/png": "[encoded data removed]",
            "text/plain": [
              "<Figure size 432x288 with 1 Axes>"
            ]
          },
          "metadata": {
            "tags": [],
            "needs_background": "light"
          }
        },
        {
          "output_type": "display_data",
          "data": {
            "image/png": "[encoded data removed]",
            "text/plain": [
              "<Figure size 432x288 with 1 Axes>"
            ]
          },
          "metadata": {
            "tags": [],
            "needs_background": "light"
          }
        }
      ]
    },
    {
      "cell_type": "code",
      "metadata": {
        "id": "wa8hp0Iives5"
      },
      "source": [
        "def predict_house_values(n, feature, label):\n",
        "  \"\"\"Prediction of house values based on a feature.\"\"\"\n",
        "\n",
        "  batch = training_df[feature][10000:10000 + n]\n",
        "  predicted_values = my_model.predict_on_batch(x=batch)\n",
        "\n",
        "  print(\"feature   label          predicted\")\n",
        "  print(\"  value   value          value\")\n",
        "  print(\"          in thousand$   in thousand$\")\n",
        "  print(\"--------------------------------------\")\n",
        "  for i in range(n):\n",
        "    print (\"%5.0f %6.0f %15.0f\" % (training_df[feature][10000 + i],\n",
        "                                   training_df[label][10000 + i],\n",
        "                                   predicted_values[i][0] ))"
      ],
      "execution_count": null,
      "outputs": []
    },
    {
      "cell_type": "code",
      "metadata": {
        "colab": {
          "base_uri": "https://localhost:8080/"
        },
        "id": "dZbKr-revk4r",
        "outputId": "59623048-d990-471f-c0e6-dff4f7b73795"
      },
      "source": [
        "predict_house_values(10, my_feature, my_label)"
      ],
      "execution_count": null,
      "outputs": [
        {
          "output_type": "stream",
          "text": [
            "feature   label          predicted\n",
            "  value   value          value\n",
            "          in thousand$   in thousand$\n",
            "--------------------------------------\n",
            " 1960     53             139\n",
            " 3400     92             144\n",
            " 3677     69             145\n",
            " 2202     62             140\n",
            " 2403     80             140\n",
            " 5652    295             151\n",
            " 3318    500             144\n",
            " 2552    342             141\n",
            " 1364    118             137\n",
            " 3468    128             144\n"
          ],
          "name": "stdout"
        }
      ]
    },
    {
      "cell_type": "code",
      "metadata": {
        "colab": {
          "base_uri": "https://localhost:8080/",
          "height": 1000
        },
        "id": "hnW-ZsWywAV3",
        "outputId": "0f818f91-9b1f-4a5c-cf73-efe146d65102"
      },
      "source": [
        "my_feature = \"population\" # We choose a feature other than \"total_rooms\"\n",
        "\n",
        "# Possibly, we can now experiment with the hyperparameters.\n",
        "learning_rate = 0.05\n",
        "epochs = 18\n",
        "batch_size = 3\n",
        "\n",
        "\n",
        "my_model = build_model(learning_rate)\n",
        "weight, bias, epochs, rmse = train_model(my_model, training_df, \n",
        "                                         my_feature, my_label,\n",
        "                                         epochs, batch_size)\n",
        "\n",
        "plot_the_model(weight, bias, my_feature, my_label)\n",
        "plot_the_loss_curve(epochs, rmse)\n"
      ],
      "execution_count": null,
      "outputs": [
        {
          "output_type": "stream",
          "text": [
            "Epoch 1/18\n",
            "5667/5667 [==============================] - 5s 872us/step - loss: 37230.2540 - root_mean_squared_error: 192.2677\n",
            "Epoch 2/18\n",
            "5667/5667 [==============================] - 5s 861us/step - loss: 20703.1210 - root_mean_squared_error: 143.8522\n",
            "Epoch 3/18\n",
            "5667/5667 [==============================] - 5s 859us/step - loss: 18774.4023 - root_mean_squared_error: 136.9752\n",
            "Epoch 4/18\n",
            "5667/5667 [==============================] - 5s 872us/step - loss: 18203.7096 - root_mean_squared_error: 134.8888\n",
            "Epoch 5/18\n",
            "5667/5667 [==============================] - 5s 898us/step - loss: 18265.1560 - root_mean_squared_error: 135.1074\n",
            "Epoch 6/18\n",
            "5667/5667 [==============================] - 5s 875us/step - loss: 18230.1215 - root_mean_squared_error: 134.9880\n",
            "Epoch 7/18\n",
            "5667/5667 [==============================] - 5s 858us/step - loss: 17898.1871 - root_mean_squared_error: 133.7635\n",
            "Epoch 8/18\n",
            "5667/5667 [==============================] - 5s 861us/step - loss: 18488.2263 - root_mean_squared_error: 135.9618\n",
            "Epoch 9/18\n",
            "5667/5667 [==============================] - 5s 860us/step - loss: 18199.2049 - root_mean_squared_error: 134.8844\n",
            "Epoch 10/18\n",
            "5667/5667 [==============================] - 5s 857us/step - loss: 17984.5126 - root_mean_squared_error: 134.0820\n",
            "Epoch 11/18\n",
            "5667/5667 [==============================] - 5s 868us/step - loss: 18384.0271 - root_mean_squared_error: 135.5713\n",
            "Epoch 12/18\n",
            "5667/5667 [==============================] - 5s 869us/step - loss: 18623.2093 - root_mean_squared_error: 136.4381\n",
            "Epoch 13/18\n",
            "5667/5667 [==============================] - 5s 872us/step - loss: 18622.9745 - root_mean_squared_error: 136.4505\n",
            "Epoch 14/18\n",
            "5667/5667 [==============================] - 5s 879us/step - loss: 17796.0457 - root_mean_squared_error: 133.3940\n",
            "Epoch 15/18\n",
            "5667/5667 [==============================] - 5s 870us/step - loss: 17766.9638 - root_mean_squared_error: 133.2873\n",
            "Epoch 16/18\n",
            "5667/5667 [==============================] - 5s 866us/step - loss: 17862.4410 - root_mean_squared_error: 133.6264\n",
            "Epoch 17/18\n",
            "5667/5667 [==============================] - 5s 857us/step - loss: 18418.1905 - root_mean_squared_error: 135.6987\n",
            "Epoch 18/18\n",
            "5667/5667 [==============================] - 5s 859us/step - loss: 18189.5859 - root_mean_squared_error: 134.8432\n"
          ],
          "name": "stdout"
        },
        {
          "output_type": "stream",
          "text": [
            "/usr/local/lib/python3.7/dist-packages/numpy/core/_asarray.py:136: VisibleDeprecationWarning: Creating an ndarray from ragged nested sequences (which is a list-or-tuple of lists-or-tuples-or ndarrays with different lengths or shapes) is deprecated. If you meant to do this, you must specify 'dtype=object' when creating the ndarray\n",
            "  return array(a, dtype, copy=False, order=order, subok=True)\n"
          ],
          "name": "stderr"
        },
        {
          "output_type": "display_data",
          "data": {
            "image/png": "[encoded data removed]",
            "text/plain": [
              "<Figure size 432x288 with 1 Axes>"
            ]
          },
          "metadata": {
            "tags": [],
            "needs_background": "light"
          }
        },
        {
          "output_type": "display_data",
          "data": {
            "image/png": "[encoded data removed]",
            "text/plain": [
              "<Figure size 432x288 with 1 Axes>"
            ]
          },
          "metadata": {
            "tags": [],
            "needs_background": "light"
          }
        }
      ]
    },
    {
      "cell_type": "code",
      "metadata": {
        "colab": {
          "base_uri": "https://localhost:8080/"
        },
        "id": "TBqCuiVRwiRR",
        "outputId": "b94048f0-c2aa-4501-ec20-b8d6ce41bef0"
      },
      "source": [
        "predict_house_values(10, my_feature, my_label)"
      ],
      "execution_count": null,
      "outputs": [
        {
          "output_type": "stream",
          "text": [
            "feature   label          predicted\n",
            "  value   value          value\n",
            "          in thousand$   in thousand$\n",
            "--------------------------------------\n",
            " 1286     53             283\n",
            " 1867     92             316\n",
            " 2191     69             334\n",
            " 1052     62             270\n",
            " 1647     80             303\n",
            " 2312    295             341\n",
            " 1604    500             301\n",
            " 1066    342             270\n",
            "  338    118             229\n",
            " 1604    128             301\n"
          ],
          "name": "stdout"
        }
      ]
    },
    {
      "cell_type": "code",
      "metadata": {
        "colab": {
          "base_uri": "https://localhost:8080/",
          "height": 1000
        },
        "id": "FaaeiCOEwlaq",
        "outputId": "37d574c0-64b4-43c1-b019-8147a216e1e2"
      },
      "source": [
        "#@title  Synthetic feature\n",
        "training_df[\"rooms_per_person\"] = training_df[\"total_rooms\"] / training_df[\"population\"]\n",
        "my_feature = \"rooms_per_person\"\n",
        "\n",
        "# Tuning the hyperparameters.\n",
        "learning_rate = 0.06\n",
        "epochs = 24\n",
        "batch_size = 30\n",
        "\n",
        "\n",
        "my_model = build_model(learning_rate)\n",
        "weight, bias, epochs, mae = train_model(my_model, training_df,\n",
        "                                        my_feature, my_label,\n",
        "                                        epochs, batch_size)\n",
        "\n",
        "plot_the_loss_curve(epochs, mae)"
      ],
      "execution_count": null,
      "outputs": [
        {
          "output_type": "stream",
          "text": [
            "Epoch 1/24\n",
            "567/567 [==============================] - 1s 836us/step - loss: 46084.7695 - root_mean_squared_error: 214.3644\n",
            "Epoch 2/24\n",
            "567/567 [==============================] - 0s 849us/step - loss: 22147.9479 - root_mean_squared_error: 148.7017\n",
            "Epoch 3/24\n",
            "567/567 [==============================] - 0s 851us/step - loss: 15322.5753 - root_mean_squared_error: 123.6572\n",
            "Epoch 4/24\n",
            "567/567 [==============================] - 0s 858us/step - loss: 15062.7570 - root_mean_squared_error: 122.6688\n",
            "Epoch 5/24\n",
            "567/567 [==============================] - 0s 853us/step - loss: 13448.5955 - root_mean_squared_error: 115.9126\n",
            "Epoch 6/24\n",
            "567/567 [==============================] - 0s 847us/step - loss: 15214.6171 - root_mean_squared_error: 123.2543\n",
            "Epoch 7/24\n",
            "567/567 [==============================] - 1s 886us/step - loss: 13692.5091 - root_mean_squared_error: 116.9571\n",
            "Epoch 8/24\n",
            "567/567 [==============================] - 0s 855us/step - loss: 15064.4414 - root_mean_squared_error: 122.6277\n",
            "Epoch 9/24\n",
            "567/567 [==============================] - 0s 866us/step - loss: 13397.3380 - root_mean_squared_error: 115.6931\n",
            "Epoch 10/24\n",
            "567/567 [==============================] - 0s 860us/step - loss: 13223.1627 - root_mean_squared_error: 114.9668\n",
            "Epoch 11/24\n",
            "567/567 [==============================] - 0s 869us/step - loss: 13826.9390 - root_mean_squared_error: 117.5411\n",
            "Epoch 12/24\n",
            "567/567 [==============================] - 0s 873us/step - loss: 15269.5252 - root_mean_squared_error: 123.1034\n",
            "Epoch 13/24\n",
            "567/567 [==============================] - 1s 890us/step - loss: 13151.8931 - root_mean_squared_error: 114.6382\n",
            "Epoch 14/24\n",
            "567/567 [==============================] - 0s 866us/step - loss: 14363.5106 - root_mean_squared_error: 119.7189\n",
            "Epoch 15/24\n",
            "567/567 [==============================] - 0s 861us/step - loss: 13406.5243 - root_mean_squared_error: 115.7726\n",
            "Epoch 16/24\n",
            "567/567 [==============================] - 0s 872us/step - loss: 13551.1570 - root_mean_squared_error: 116.3521\n",
            "Epoch 17/24\n",
            "567/567 [==============================] - 1s 884us/step - loss: 13495.6760 - root_mean_squared_error: 116.1417\n",
            "Epoch 18/24\n",
            "567/567 [==============================] - 0s 877us/step - loss: 13189.5779 - root_mean_squared_error: 114.8272\n",
            "Epoch 19/24\n",
            "567/567 [==============================] - 1s 917us/step - loss: 13006.9911 - root_mean_squared_error: 114.0330\n",
            "Epoch 20/24\n",
            "567/567 [==============================] - 0s 881us/step - loss: 12726.3636 - root_mean_squared_error: 112.7787\n",
            "Epoch 21/24\n",
            "567/567 [==============================] - 1s 883us/step - loss: 13826.8252 - root_mean_squared_error: 117.5493\n",
            "Epoch 22/24\n",
            "567/567 [==============================] - 1s 944us/step - loss: 13629.4940 - root_mean_squared_error: 116.6197\n",
            "Epoch 23/24\n",
            "567/567 [==============================] - 1s 883us/step - loss: 13169.7924 - root_mean_squared_error: 114.7347\n",
            "Epoch 24/24\n",
            "567/567 [==============================] - 0s 875us/step - loss: 13061.7077 - root_mean_squared_error: 114.2588\n"
          ],
          "name": "stdout"
        },
        {
          "output_type": "display_data",
          "data": {
            "image/png": "[encoded data removed]",
            "text/plain": [
              "<Figure size 432x288 with 1 Axes>"
            ]
          },
          "metadata": {
            "tags": [],
            "needs_background": "light"
          }
        }
      ]
    },
    {
      "cell_type": "code",
      "metadata": {
        "colab": {
          "base_uri": "https://localhost:8080/"
        },
        "id": "xs2aYav7wllF",
        "outputId": "703d596f-b28d-42d2-d2d8-6f87968a7908"
      },
      "source": [
        "predict_house_values(15, my_feature, my_label)"
      ],
      "execution_count": null,
      "outputs": [
        {
          "output_type": "stream",
          "text": [
            "feature   label          predicted\n",
            "  value   value          value\n",
            "          in thousand$   in thousand$\n",
            "--------------------------------------\n",
            "    2     53             188\n",
            "    2     92             199\n",
            "    2     69             194\n",
            "    2     62             210\n",
            "    1     80             185\n",
            "    2    295             223\n",
            "    2    500             209\n",
            "    2    342             221\n",
            "    4    118             285\n",
            "    2    128             212\n",
            "    2    187             222\n",
            "    3     80             232\n",
            "    2    112             223\n",
            "    2     95             217\n",
            "    2     69             209\n"
          ],
          "name": "stdout"
        }
      ]
    },
    {
      "cell_type": "code",
      "metadata": {
        "colab": {
          "base_uri": "https://localhost:8080/",
          "height": 379
        },
        "id": "fDBGJrRNw1KK",
        "outputId": "f92f9505-2217-4373-8318-c1a770a06200"
      },
      "source": [
        "# @title Correlation matrix\n",
        "training_df.corr()"
      ],
      "execution_count": null,
      "outputs": [
        {
          "output_type": "execute_result",
          "data": {
            "text/html": [
              "<div>\n",
              "<style scoped>\n",
              "    .dataframe tbody tr th:only-of-type {\n",
              "        vertical-align: middle;\n",
              "    }\n",
              "\n",
              "    .dataframe tbody tr th {\n",
              "        vertical-align: top;\n",
              "    }\n",
              "\n",
              "    .dataframe thead th {\n",
              "        text-align: right;\n",
              "    }\n",
              "</style>\n",
              "<table border=\"1\" class=\"dataframe\">\n",
              "  <thead>\n",
              "    <tr style=\"text-align: right;\">\n",
              "      <th></th>\n",
              "      <th>longitude</th>\n",
              "      <th>latitude</th>\n",
              "      <th>housing_median_age</th>\n",
              "      <th>total_rooms</th>\n",
              "      <th>total_bedrooms</th>\n",
              "      <th>population</th>\n",
              "      <th>households</th>\n",
              "      <th>median_income</th>\n",
              "      <th>median_house_value</th>\n",
              "      <th>rooms_per_person</th>\n",
              "    </tr>\n",
              "  </thead>\n",
              "  <tbody>\n",
              "    <tr>\n",
              "      <th>longitude</th>\n",
              "      <td>1.0</td>\n",
              "      <td>-0.9</td>\n",
              "      <td>-0.1</td>\n",
              "      <td>0.0</td>\n",
              "      <td>0.1</td>\n",
              "      <td>0.1</td>\n",
              "      <td>0.1</td>\n",
              "      <td>-0.0</td>\n",
              "      <td>-0.0</td>\n",
              "      <td>-0.1</td>\n",
              "    </tr>\n",
              "    <tr>\n",
              "      <th>latitude</th>\n",
              "      <td>-0.9</td>\n",
              "      <td>1.0</td>\n",
              "      <td>0.0</td>\n",
              "      <td>-0.0</td>\n",
              "      <td>-0.1</td>\n",
              "      <td>-0.1</td>\n",
              "      <td>-0.1</td>\n",
              "      <td>-0.1</td>\n",
              "      <td>-0.1</td>\n",
              "      <td>0.1</td>\n",
              "    </tr>\n",
              "    <tr>\n",
              "      <th>housing_median_age</th>\n",
              "      <td>-0.1</td>\n",
              "      <td>0.0</td>\n",
              "      <td>1.0</td>\n",
              "      <td>-0.4</td>\n",
              "      <td>-0.3</td>\n",
              "      <td>-0.3</td>\n",
              "      <td>-0.3</td>\n",
              "      <td>-0.1</td>\n",
              "      <td>0.1</td>\n",
              "      <td>-0.1</td>\n",
              "    </tr>\n",
              "    <tr>\n",
              "      <th>total_rooms</th>\n",
              "      <td>0.0</td>\n",
              "      <td>-0.0</td>\n",
              "      <td>-0.4</td>\n",
              "      <td>1.0</td>\n",
              "      <td>0.9</td>\n",
              "      <td>0.9</td>\n",
              "      <td>0.9</td>\n",
              "      <td>0.2</td>\n",
              "      <td>0.1</td>\n",
              "      <td>0.1</td>\n",
              "    </tr>\n",
              "    <tr>\n",
              "      <th>total_bedrooms</th>\n",
              "      <td>0.1</td>\n",
              "      <td>-0.1</td>\n",
              "      <td>-0.3</td>\n",
              "      <td>0.9</td>\n",
              "      <td>1.0</td>\n",
              "      <td>0.9</td>\n",
              "      <td>1.0</td>\n",
              "      <td>-0.0</td>\n",
              "      <td>0.0</td>\n",
              "      <td>0.0</td>\n",
              "    </tr>\n",
              "    <tr>\n",
              "      <th>population</th>\n",
              "      <td>0.1</td>\n",
              "      <td>-0.1</td>\n",
              "      <td>-0.3</td>\n",
              "      <td>0.9</td>\n",
              "      <td>0.9</td>\n",
              "      <td>1.0</td>\n",
              "      <td>0.9</td>\n",
              "      <td>-0.0</td>\n",
              "      <td>-0.0</td>\n",
              "      <td>-0.1</td>\n",
              "    </tr>\n",
              "    <tr>\n",
              "      <th>households</th>\n",
              "      <td>0.1</td>\n",
              "      <td>-0.1</td>\n",
              "      <td>-0.3</td>\n",
              "      <td>0.9</td>\n",
              "      <td>1.0</td>\n",
              "      <td>0.9</td>\n",
              "      <td>1.0</td>\n",
              "      <td>0.0</td>\n",
              "      <td>0.1</td>\n",
              "      <td>-0.0</td>\n",
              "    </tr>\n",
              "    <tr>\n",
              "      <th>median_income</th>\n",
              "      <td>-0.0</td>\n",
              "      <td>-0.1</td>\n",
              "      <td>-0.1</td>\n",
              "      <td>0.2</td>\n",
              "      <td>-0.0</td>\n",
              "      <td>-0.0</td>\n",
              "      <td>0.0</td>\n",
              "      <td>1.0</td>\n",
              "      <td>0.7</td>\n",
              "      <td>0.2</td>\n",
              "    </tr>\n",
              "    <tr>\n",
              "      <th>median_house_value</th>\n",
              "      <td>-0.0</td>\n",
              "      <td>-0.1</td>\n",
              "      <td>0.1</td>\n",
              "      <td>0.1</td>\n",
              "      <td>0.0</td>\n",
              "      <td>-0.0</td>\n",
              "      <td>0.1</td>\n",
              "      <td>0.7</td>\n",
              "      <td>1.0</td>\n",
              "      <td>0.2</td>\n",
              "    </tr>\n",
              "    <tr>\n",
              "      <th>rooms_per_person</th>\n",
              "      <td>-0.1</td>\n",
              "      <td>0.1</td>\n",
              "      <td>-0.1</td>\n",
              "      <td>0.1</td>\n",
              "      <td>0.0</td>\n",
              "      <td>-0.1</td>\n",
              "      <td>-0.0</td>\n",
              "      <td>0.2</td>\n",
              "      <td>0.2</td>\n",
              "      <td>1.0</td>\n",
              "    </tr>\n",
              "  </tbody>\n",
              "</table>\n",
              "</div>"
            ],
            "text/plain": [
              "                    longitude  latitude  ...  median_house_value  rooms_per_person\n",
              "longitude                 1.0      -0.9  ...                -0.0              -0.1\n",
              "latitude                 -0.9       1.0  ...                -0.1               0.1\n",
              "housing_median_age       -0.1       0.0  ...                 0.1              -0.1\n",
              "total_rooms               0.0      -0.0  ...                 0.1               0.1\n",
              "total_bedrooms            0.1      -0.1  ...                 0.0               0.0\n",
              "population                0.1      -0.1  ...                -0.0              -0.1\n",
              "households                0.1      -0.1  ...                 0.1              -0.0\n",
              "median_income            -0.0      -0.1  ...                 0.7               0.2\n",
              "median_house_value       -0.0      -0.1  ...                 1.0               0.2\n",
              "rooms_per_person         -0.1       0.1  ...                 0.2               1.0\n",
              "\n",
              "[10 rows x 10 columns]"
            ]
          },
          "metadata": {
            "tags": []
          },
          "execution_count": 14
        }
      ]
    },
    {
      "cell_type": "code",
      "metadata": {
        "colab": {
          "base_uri": "https://localhost:8080/",
          "height": 1000
        },
        "id": "r6kEhIq8xODe",
        "outputId": "b51c8106-08bc-43b8-d2c6-068eb874b5ff"
      },
      "source": [
        "#@title Use of correlation matrix to get optimised convergence in model\n",
        "my_feature = \"median_income\" # Pick a feature other than \"total_rooms\"\n",
        "\n",
        "# Possibly, experiment with the hyperparameters.\n",
        "learning_rate = 0.05\n",
        "epochs = 18\n",
        "batch_size = 3\n",
        "\n",
        "# Don't change anything below.\n",
        "my_model = build_model(learning_rate)\n",
        "weight, bias, epochs, rmse = train_model(my_model, training_df, \n",
        "                                         my_feature, my_label,\n",
        "                                         epochs, batch_size)\n",
        "\n",
        "plot_the_model(weight, bias, my_feature, my_label)\n",
        "plot_the_loss_curve(epochs, rmse)"
      ],
      "execution_count": null,
      "outputs": [
        {
          "output_type": "stream",
          "text": [
            "Epoch 1/18\n",
            "5667/5667 [==============================] - 5s 895us/step - loss: 18689.2228 - root_mean_squared_error: 131.7987\n",
            "Epoch 2/18\n",
            "5667/5667 [==============================] - 5s 853us/step - loss: 7109.3223 - root_mean_squared_error: 84.2723\n",
            "Epoch 3/18\n",
            "5667/5667 [==============================] - 5s 867us/step - loss: 6959.0162 - root_mean_squared_error: 83.4052\n",
            "Epoch 4/18\n",
            "5667/5667 [==============================] - 5s 859us/step - loss: 7061.9060 - root_mean_squared_error: 84.0239\n",
            "Epoch 5/18\n",
            "5667/5667 [==============================] - 5s 848us/step - loss: 7075.8132 - root_mean_squared_error: 84.0817\n",
            "Epoch 6/18\n",
            "5667/5667 [==============================] - 5s 859us/step - loss: 7092.9166 - root_mean_squared_error: 84.2109\n",
            "Epoch 7/18\n",
            "5667/5667 [==============================] - 5s 873us/step - loss: 7123.3701 - root_mean_squared_error: 84.3810\n",
            "Epoch 8/18\n",
            "5667/5667 [==============================] - 5s 888us/step - loss: 7302.1072 - root_mean_squared_error: 85.4282\n",
            "Epoch 9/18\n",
            "5667/5667 [==============================] - 5s 848us/step - loss: 6974.2209 - root_mean_squared_error: 83.4943\n",
            "Epoch 10/18\n",
            "5667/5667 [==============================] - 5s 863us/step - loss: 7095.9796 - root_mean_squared_error: 84.2202\n",
            "Epoch 11/18\n",
            "5667/5667 [==============================] - 5s 870us/step - loss: 7099.7587 - root_mean_squared_error: 84.2497\n",
            "Epoch 12/18\n",
            "5667/5667 [==============================] - 5s 863us/step - loss: 7165.1874 - root_mean_squared_error: 84.6268\n",
            "Epoch 13/18\n",
            "5667/5667 [==============================] - 5s 869us/step - loss: 7158.2692 - root_mean_squared_error: 84.5951\n",
            "Epoch 14/18\n",
            "5667/5667 [==============================] - 5s 863us/step - loss: 7020.4429 - root_mean_squared_error: 83.7582\n",
            "Epoch 15/18\n",
            "5667/5667 [==============================] - 5s 869us/step - loss: 7079.5511 - root_mean_squared_error: 84.1295\n",
            "Epoch 16/18\n",
            "5667/5667 [==============================] - 5s 865us/step - loss: 6990.3805 - root_mean_squared_error: 83.5783\n",
            "Epoch 17/18\n",
            "5667/5667 [==============================] - 5s 863us/step - loss: 7100.1251 - root_mean_squared_error: 84.2409\n",
            "Epoch 18/18\n",
            "5667/5667 [==============================] - 5s 855us/step - loss: 7049.5572 - root_mean_squared_error: 83.9368\n"
          ],
          "name": "stdout"
        },
        {
          "output_type": "stream",
          "text": [
            "/usr/local/lib/python3.7/dist-packages/numpy/core/_asarray.py:136: VisibleDeprecationWarning: Creating an ndarray from ragged nested sequences (which is a list-or-tuple of lists-or-tuples-or ndarrays with different lengths or shapes) is deprecated. If you meant to do this, you must specify 'dtype=object' when creating the ndarray\n",
            "  return array(a, dtype, copy=False, order=order, subok=True)\n"
          ],
          "name": "stderr"
        },
        {
          "output_type": "display_data",
          "data": {
            "image/png": "[encoded data removed]",
            "text/plain": [
              "<Figure size 432x288 with 1 Axes>"
            ]
          },
          "metadata": {
            "tags": [],
            "needs_background": "light"
          }
        },
        {
          "output_type": "display_data",
          "data": {
            "image/png": "[encoded data removed]",
            "text/plain": [
              "<Figure size 432x288 with 1 Axes>"
            ]
          },
          "metadata": {
            "tags": [],
            "needs_background": "light"
          }
        }
      ]
    },
    {
      "cell_type": "code",
      "metadata": {
        "colab": {
          "base_uri": "https://localhost:8080/"
        },
        "id": "TEZrP5oExsyS",
        "outputId": "9c807adf-7b41-4628-d7d4-6a2788646d75"
      },
      "source": [
        "predict_house_values(10, my_feature, my_label)"
      ],
      "execution_count": null,
      "outputs": [
        {
          "output_type": "stream",
          "text": [
            "feature   label          predicted\n",
            "  value   value          value\n",
            "          in thousand$   in thousand$\n",
            "--------------------------------------\n",
            "    2     53             132\n",
            "    4     92             212\n",
            "    3     69             153\n",
            "    2     62             130\n",
            "    3     80             152\n",
            "    2    295             146\n",
            "   10    500             464\n",
            "    5    342             262\n",
            "    2    118             145\n",
            "    4    128             222\n"
          ],
          "name": "stdout"
        }
      ]
    }
  ]
}