{
  "nbformat": 4,
  "nbformat_minor": 0,
  "metadata": {
    "colab": {
      "name": "Single_layered_NN.ipynb",
      "provenance": []
    },
    "kernelspec": {
      "name": "python3",
      "display_name": "Python 3"
    },
    "language_info": {
      "name": "python"
    }
  },
  "cells": [
    {
      "cell_type": "markdown",
      "metadata": {
        "id": "Muc4ykTEgJVG"
      },
      "source": [
        "[Ex 1.](https://developers.google.com/codelabs/tensorflow-1-helloworld?continue=https%3A%2F%2Fdevelopers.google.com%2Flearn%2Fpathways%2Ftensorflow%23codelab-https%3A%2F%2Fdevelopers.google.com%2Fcodelabs%2Ftensorflow-1-helloworld#2)"
      ]
    },
    {
      "cell_type": "markdown",
      "metadata": {
        "id": "GCjOoZENjNaz"
      },
      "source": [
        "Here, a Neural Network model is implemented to interpret the mathematical relationship between two sequences of numbers. The network is defined by one layer with one neuron and is then compiled with the LOSS & OPTIMIZER functions, each being 'mean_squared_error' and 'sgd'."
      ]
    },
    {
      "cell_type": "markdown",
      "metadata": {
        "id": "ezrXJ9MakGcL"
      },
      "source": [
        "The defined NETWORK alongwith the LOSS & OPTIMIZER functions handle the guesses for future inputs. "
      ]
    },
    {
      "cell_type": "code",
      "metadata": {
        "id": "SHGor1wBMC1i"
      },
      "source": [
        "import tensorflow as tf\n",
        "import numpy as np\n",
        "from tensorflow import keras"
      ],
      "execution_count": null,
      "outputs": []
    },
    {
      "cell_type": "code",
      "metadata": {
        "id": "ioVTe85AdfgJ"
      },
      "source": [
        "model = tf.keras.Sequential([keras.layers.Dense(units=1, input_shape=[1])])\n",
        "model.compile(optimizer='sgd', loss='mean_squared_error')"
      ],
      "execution_count": null,
      "outputs": []
    },
    {
      "cell_type": "code",
      "metadata": {
        "id": "z-F7ScAmdhh9"
      },
      "source": [
        "xs = np.array([-1.0, 0.0, 1.0, 2.0, 3.0, 4.0], dtype=float)\n",
        "ys = np.array([-2.0, 1.0, 4.0, 7.0, 10.0, 13.0], dtype=float)"
      ],
      "execution_count": null,
      "outputs": []
    },
    {
      "cell_type": "code",
      "metadata": {
        "colab": {
          "base_uri": "https://localhost:8080/"
        },
        "id": "tXTQgrS8e0m4",
        "outputId": "55bee782-56c6-4894-91e6-15aacf0eda74"
      },
      "source": [
        "model.fit(xs, ys, epochs=50)"
      ],
      "execution_count": null,
      "outputs": [
        {
          "output_type": "stream",
          "text": [
            "Epoch 1/50\n",
            "1/1 [==============================] - 0s 418ms/step - loss: 51.5253\n",
            "Epoch 2/50\n",
            "1/1 [==============================] - 0s 5ms/step - loss: 40.5382\n",
            "Epoch 3/50\n",
            "1/1 [==============================] - 0s 4ms/step - loss: 31.8941\n",
            "Epoch 4/50\n",
            "1/1 [==============================] - 0s 4ms/step - loss: 25.0933\n",
            "Epoch 5/50\n",
            "1/1 [==============================] - 0s 4ms/step - loss: 19.7428\n",
            "Epoch 6/50\n",
            "1/1 [==============================] - 0s 3ms/step - loss: 15.5332\n",
            "Epoch 7/50\n",
            "1/1 [==============================] - 0s 4ms/step - loss: 12.2213\n",
            "Epoch 8/50\n",
            "1/1 [==============================] - 0s 4ms/step - loss: 9.6156\n",
            "Epoch 9/50\n",
            "1/1 [==============================] - 0s 4ms/step - loss: 7.5656\n",
            "Epoch 10/50\n",
            "1/1 [==============================] - 0s 4ms/step - loss: 5.9528\n",
            "Epoch 11/50\n",
            "1/1 [==============================] - 0s 4ms/step - loss: 4.6838\n",
            "Epoch 12/50\n",
            "1/1 [==============================] - 0s 4ms/step - loss: 3.6855\n",
            "Epoch 13/50\n",
            "1/1 [==============================] - 0s 4ms/step - loss: 2.9000\n",
            "Epoch 14/50\n",
            "1/1 [==============================] - 0s 4ms/step - loss: 2.2821\n",
            "Epoch 15/50\n",
            "1/1 [==============================] - 0s 4ms/step - loss: 1.7959\n",
            "Epoch 16/50\n",
            "1/1 [==============================] - 0s 4ms/step - loss: 1.4133\n",
            "Epoch 17/50\n",
            "1/1 [==============================] - 0s 4ms/step - loss: 1.1124\n",
            "Epoch 18/50\n",
            "1/1 [==============================] - 0s 4ms/step - loss: 0.8756\n",
            "Epoch 19/50\n",
            "1/1 [==============================] - 0s 4ms/step - loss: 0.6893\n",
            "Epoch 20/50\n",
            "1/1 [==============================] - 0s 4ms/step - loss: 0.5427\n",
            "Epoch 21/50\n",
            "1/1 [==============================] - 0s 4ms/step - loss: 0.4274\n",
            "Epoch 22/50\n",
            "1/1 [==============================] - 0s 4ms/step - loss: 0.3366\n",
            "Epoch 23/50\n",
            "1/1 [==============================] - 0s 7ms/step - loss: 0.2652\n",
            "Epoch 24/50\n",
            "1/1 [==============================] - 0s 4ms/step - loss: 0.2090\n",
            "Epoch 25/50\n",
            "1/1 [==============================] - 0s 4ms/step - loss: 0.1648\n",
            "Epoch 26/50\n",
            "1/1 [==============================] - 0s 25ms/step - loss: 0.1300\n",
            "Epoch 27/50\n",
            "1/1 [==============================] - 0s 6ms/step - loss: 0.1026\n",
            "Epoch 28/50\n",
            "1/1 [==============================] - 0s 7ms/step - loss: 0.0811\n",
            "Epoch 29/50\n",
            "1/1 [==============================] - 0s 8ms/step - loss: 0.0641\n",
            "Epoch 30/50\n",
            "1/1 [==============================] - 0s 9ms/step - loss: 0.0508\n",
            "Epoch 31/50\n",
            "1/1 [==============================] - 0s 9ms/step - loss: 0.0403\n",
            "Epoch 32/50\n",
            "1/1 [==============================] - 0s 5ms/step - loss: 0.0320\n",
            "Epoch 33/50\n",
            "1/1 [==============================] - 0s 5ms/step - loss: 0.0255\n",
            "Epoch 34/50\n",
            "1/1 [==============================] - 0s 4ms/step - loss: 0.0204\n",
            "Epoch 35/50\n",
            "1/1 [==============================] - 0s 5ms/step - loss: 0.0163\n",
            "Epoch 36/50\n",
            "1/1 [==============================] - 0s 5ms/step - loss: 0.0131\n",
            "Epoch 37/50\n",
            "1/1 [==============================] - 0s 6ms/step - loss: 0.0106\n",
            "Epoch 38/50\n",
            "1/1 [==============================] - 0s 9ms/step - loss: 0.0086\n",
            "Epoch 39/50\n",
            "1/1 [==============================] - 0s 8ms/step - loss: 0.0071\n",
            "Epoch 40/50\n",
            "1/1 [==============================] - 0s 6ms/step - loss: 0.0058\n",
            "Epoch 41/50\n",
            "1/1 [==============================] - 0s 5ms/step - loss: 0.0048\n",
            "Epoch 42/50\n",
            "1/1 [==============================] - 0s 5ms/step - loss: 0.0041\n",
            "Epoch 43/50\n",
            "1/1 [==============================] - 0s 5ms/step - loss: 0.0034\n",
            "Epoch 44/50\n",
            "1/1 [==============================] - 0s 9ms/step - loss: 0.0030\n",
            "Epoch 45/50\n",
            "1/1 [==============================] - 0s 4ms/step - loss: 0.0026\n",
            "Epoch 46/50\n",
            "1/1 [==============================] - 0s 4ms/step - loss: 0.0023\n",
            "Epoch 47/50\n",
            "1/1 [==============================] - 0s 4ms/step - loss: 0.0020\n",
            "Epoch 48/50\n",
            "1/1 [==============================] - 0s 4ms/step - loss: 0.0018\n",
            "Epoch 49/50\n",
            "1/1 [==============================] - 0s 4ms/step - loss: 0.0016\n",
            "Epoch 50/50\n",
            "1/1 [==============================] - 0s 6ms/step - loss: 0.0015\n"
          ],
          "name": "stdout"
        },
        {
          "output_type": "execute_result",
          "data": {
            "text/plain": [
              "<tensorflow.python.keras.callbacks.History at 0x7fea816ad550>"
            ]
          },
          "metadata": {
            "tags": []
          },
          "execution_count": 8
        }
      ]
    },
    {
      "cell_type": "code",
      "metadata": {
        "colab": {
          "base_uri": "https://localhost:8080/"
        },
        "id": "IIwUeJk8fklA",
        "outputId": "4abdaec6-df30-41cb-9091-5d0a4f8b5375"
      },
      "source": [
        "print(model.predict([10.0]))"
      ],
      "execution_count": null,
      "outputs": [
        {
          "output_type": "stream",
          "text": [
            "[[31.022938]]\n"
          ],
          "name": "stdout"
        }
      ]
    },
    {
      "cell_type": "markdown",
      "metadata": {
        "id": "eTSd7XqFgd0V"
      },
      "source": [
        "While we were expecting 31.00, the model give us a value little more than the expected."
      ]
    }
  ]
}